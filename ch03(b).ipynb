{
 "cells": [
  {
   "cell_type": "markdown",
   "id": "e983a878",
   "metadata": {},
   "source": [
    "## 회기 모델"
   ]
  },
  {
   "cell_type": "code",
   "execution_count": 30,
   "id": "00fdbb0a",
   "metadata": {},
   "outputs": [],
   "source": [
    "import numpy as np\n",
    "from sklearn.datasets import fetch_california_housing\n",
    "from sklearn.model_selection import train_test_split\n",
    "from sklearn.preprocessing import StandardScaler, MinMaxScaler, QuantileTransformer\n",
    "from sklearn.neighbors import KNeighborsClassifier\n",
    "from sklearn.ensemble import RandomForestRegressor\n",
    "from sklearn.svm import SVR\n",
    "from sklearn.metrics import mean_squared_error\n",
    "\n",
    "import matplotlib.pyplot as plt\n",
    "plt.rc('font', family='D2Coding')\n",
    "\n"
   ]
  },
  {
   "cell_type": "code",
   "execution_count": 31,
   "id": "fd78c93b",
   "metadata": {},
   "outputs": [],
   "source": [
    "housing = fetch_california_housing()"
   ]
  },
  {
   "cell_type": "code",
   "execution_count": 32,
   "id": "af8171ed",
   "metadata": {},
   "outputs": [],
   "source": [
    "# 이렇게 나눈 후 스케일을 옮겨야 함.\n",
    "X_train, X_test, y_train, y_test = train_test_split(housing.data, housing.target)\n"
   ]
  },
  {
   "cell_type": "code",
   "execution_count": 33,
   "id": "7ed8fc7f",
   "metadata": {},
   "outputs": [],
   "source": [
    "scalers = {\n",
    "    \"None\" : None,\n",
    "    \"StandardScaler\" : StandardScaler(),\n",
    "    \"MinMaxScaler\" : MinMaxScaler(),\n",
    "    \"QuantileTransformer\" : QuantileTransformer(output_distribution=\"normal\") ## 4분위 변환기 ## output_distribution=\"normal\" 정규분포 균등분위\n",
    "}"
   ]
  },
  {
   "cell_type": "code",
   "execution_count": 34,
   "id": "a5a9427b",
   "metadata": {},
   "outputs": [],
   "source": [
    "scaling_results ={}\n",
    "\n",
    "for name, scaler in scalers.items():\n",
    "    if scaler is not None:\n",
    "        X_train_scaled = scaler.fit_transform(X_train)\n",
    "        X_test_scaled = scaler.transform(X_test)\n",
    "    else:\n",
    "        X_train_scaled = X_train\n",
    "        X_test_scaled = X_test\n",
    "\n",
    "    svr = RandomForestRegressor()\n",
    "    svr.fit(X_train_scaled, y_train)\n",
    "\n",
    "    y_pred = svr.predict(X_test_scaled)\n",
    "    mae = mean_squared_error(y_test, y_pred)\n",
    "\n",
    "    scaling_results[name] = {\"mae\" : mae}\n",
    "\n"
   ]
  },
  {
   "cell_type": "code",
   "execution_count": 35,
   "id": "34fcd5b9",
   "metadata": {},
   "outputs": [
    {
     "data": {
      "text/plain": [
       "{'None': {'mae': 0.25619987746623646},\n",
       " 'StandardScaler': {'mae': 0.2537966615555505},\n",
       " 'MinMaxScaler': {'mae': 0.25367980041626975},\n",
       " 'QuantileTransformer': {'mae': 0.2545572449053433}}"
      ]
     },
     "execution_count": 35,
     "metadata": {},
     "output_type": "execute_result"
    }
   ],
   "source": [
    "scaling_results"
   ]
  },
  {
   "cell_type": "code",
   "execution_count": 36,
   "id": "3a7a2735",
   "metadata": {},
   "outputs": [],
   "source": [
    "# StandardScaler randomforest 먼저 돌려서 보라.\n",
    "# 전처리 안해도 비슷하게 됨."
   ]
  }
 ],
 "metadata": {
  "kernelspec": {
   "display_name": "Python 3",
   "language": "python",
   "name": "python3"
  },
  "language_info": {
   "codemirror_mode": {
    "name": "ipython",
    "version": 3
   },
   "file_extension": ".py",
   "mimetype": "text/x-python",
   "name": "python",
   "nbconvert_exporter": "python",
   "pygments_lexer": "ipython3",
   "version": "3.9.13"
  }
 },
 "nbformat": 4,
 "nbformat_minor": 5
}
