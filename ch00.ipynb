{
 "cells": [
  {
   "cell_type": "markdown",
   "id": "82707bfb",
   "metadata": {},
   "source": [
    "# AND 연산을 활용한 머신러닝 연습\n",
    "\n",
    "선형학습이란 이런 것이다. \n",
    "머신러닝이란, 가중치를 찾는 것이고 "
   ]
  },
  {
   "cell_type": "code",
   "execution_count": 373,
   "id": "3fe47a03",
   "metadata": {},
   "outputs": [],
   "source": [
    "import numpy as np"
   ]
  },
  {
   "cell_type": "code",
   "execution_count": 374,
   "id": "1b3b68e2",
   "metadata": {},
   "outputs": [],
   "source": [
    "# 1. 데이터를 가져 옴\n",
    "X = np.array([[0,0],[0,1],[1,0],[1,1]])\n",
    "y = np.array([0,0,0,1])"
   ]
  },
  {
   "cell_type": "markdown",
   "id": "d73f6389",
   "metadata": {},
   "source": [
    "y = aX + b\n",
    "- a: 기울기 (ceef_, weight, 가중치) (파라미터, 하이퍼 파라미터)\n",
    "- b: 절편 (intercept_, bias)"
   ]
  },
  {
   "cell_type": "code",
   "execution_count": 375,
   "id": "813d510c",
   "metadata": {},
   "outputs": [],
   "source": [
    "# 행렬의 곱샘을 말함.\n",
    "# weight와 bias는 랜덤값을 넣음\n",
    "# y는 답안으로 형태를 맞춰야 함. \n",
    "# 따라서 randn을 2차원형태로 만들어야 함으로 2를 넣음\n",
    "\n",
    "weight = np.random.randn(2);\n",
    "bias = np.random.randn();\n",
    "\n",
    "#러닝 레이트라는 애가 있음. 원래 있는 애임\n",
    "learning_rate = 0.1"
   ]
  },
  {
   "cell_type": "code",
   "execution_count": 376,
   "id": "623452ac",
   "metadata": {},
   "outputs": [
    {
     "name": "stdout",
     "output_type": "stream",
     "text": [
      "[1.54229947 2.12794248 0.89950689 1.48514989]\n",
      "[1.54229947 2.12794248 0.89950689 1.48514989] [1 1 1 1] [-1 -1 -1  0]\n"
     ]
    }
   ],
   "source": [
    "# 1차 완료\n",
    "z = np.dot(X, weight) + bias\n",
    "print(z)\n",
    "\n",
    " #0보다 크면 1나오고 아니면 0 나옴 => np.where(z>=0, 1, 0)\n",
    "predictions = np.where(z >= 0, 1, 0)\n",
    "errors = y - predictions\n",
    "print(z, predictions, errors)"
   ]
  },
  {
   "cell_type": "code",
   "execution_count": 377,
   "id": "a2b84c35",
   "metadata": {},
   "outputs": [
    {
     "name": "stdout",
     "output_type": "stream",
     "text": [
      "[-0.74279258  0.48564301] 1.2422994677209191\n"
     ]
    }
   ],
   "source": [
    "weight += learning_rate * np.dot(X.T, errors)\n",
    "bias += learning_rate * np.sum(errors)\n",
    "print(weight, bias)"
   ]
  },
  {
   "cell_type": "code",
   "execution_count": 378,
   "id": "4c6450ec",
   "metadata": {},
   "outputs": [
    {
     "data": {
      "text/plain": [
       "np.float64(0.25)"
      ]
     },
     "execution_count": 378,
     "metadata": {},
     "output_type": "execute_result"
    }
   ],
   "source": [
    "accuray = np.mean(predictions == y)\n",
    "accuray"
   ]
  },
  {
   "cell_type": "code",
   "execution_count": 379,
   "id": "da2aacc2",
   "metadata": {},
   "outputs": [
    {
     "name": "stdout",
     "output_type": "stream",
     "text": [
      "0, 0.2500\n",
      "10, 0.7500\n",
      "20, 1.0000\n",
      "30, 1.0000\n",
      "40, 1.0000\n",
      "50, 1.0000\n",
      "60, 1.0000\n",
      "70, 1.0000\n",
      "80, 1.0000\n",
      "90, 1.0000\n"
     ]
    }
   ],
   "source": [
    "for epoch in range(100):\n",
    "    z = np.dot(X, weight) + bias\n",
    "    predictions = np.where(z >= 0, 1, 0)\n",
    "    errors = y - predictions\n",
    "    weight += learning_rate * np.dot(X.T, errors)\n",
    "    bias += learning_rate * np.sum(errors)\n",
    "    accuray = np.mean(predictions == y)\n",
    "    if epoch % 10 == 0:\n",
    "        print(f\"{epoch}, {accuray:.4f}\")\n",
    "    \n",
    "    \n",
    "    "
   ]
  },
  {
   "cell_type": "code",
   "execution_count": 380,
   "id": "eff1061a",
   "metadata": {},
   "outputs": [
    {
     "name": "stdout",
     "output_type": "stream",
     "text": [
      "[0.25720742 0.18564301] -0.25770053227908096\n"
     ]
    }
   ],
   "source": [
    "print(weight, bias)"
   ]
  },
  {
   "cell_type": "code",
   "execution_count": 381,
   "id": "29ca7e33",
   "metadata": {},
   "outputs": [
    {
     "name": "stdout",
     "output_type": "stream",
     "text": [
      "[0 0], 0, 0\n",
      "[0 1], 0, 0\n",
      "[1 0], 0, 0\n",
      "[1 1], 1, 1\n"
     ]
    }
   ],
   "source": [
    "for i in range(len(X)):\n",
    "    z = np.dot(X[i], weight) + bias\n",
    "    prediction = 1 if z >= 0 else 0\n",
    "    print(f\"{X[i]}, {prediction}, {y[i]}\")"
   ]
  }
 ],
 "metadata": {
  "kernelspec": {
   "display_name": "Python 3",
   "language": "python",
   "name": "python3"
  },
  "language_info": {
   "codemirror_mode": {
    "name": "ipython",
    "version": 3
   },
   "file_extension": ".py",
   "mimetype": "text/x-python",
   "name": "python",
   "nbconvert_exporter": "python",
   "pygments_lexer": "ipython3",
   "version": "3.9.13"
  }
 },
 "nbformat": 4,
 "nbformat_minor": 5
}
